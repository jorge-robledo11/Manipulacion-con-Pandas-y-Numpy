{
 "cells": [
  {
   "cell_type": "code",
   "execution_count": 1,
   "metadata": {},
   "outputs": [],
   "source": [
    "import numpy as np"
   ]
  },
  {
   "cell_type": "code",
   "execution_count": 6,
   "metadata": {},
   "outputs": [
    {
     "name": "stdout",
     "output_type": "stream",
     "text": [
      "0\n",
      "42\n"
     ]
    }
   ],
   "source": [
    "scalar = np.asarray(42)\n",
    "print(scalar.ndim)\n",
    "print(scalar)"
   ]
  },
  {
   "cell_type": "code",
   "execution_count": 7,
   "metadata": {},
   "outputs": [
    {
     "name": "stdout",
     "output_type": "stream",
     "text": [
      "1\n",
      "[42 33 25]\n"
     ]
    }
   ],
   "source": [
    "vector = np.asarray([42,33,25])\n",
    "print(vector.ndim)\n",
    "print(vector)"
   ]
  },
  {
   "cell_type": "code",
   "execution_count": 9,
   "metadata": {},
   "outputs": [
    {
     "name": "stdout",
     "output_type": "stream",
     "text": [
      "2\n",
      "[[ 42  33  25]\n",
      " [ 41  96   3]\n",
      " [106  55  81]]\n"
     ]
    }
   ],
   "source": [
    "matrix = np.asarray([[42,33,25], [41,96,3], [106,55,81]])\n",
    "print(matrix.ndim)\n",
    "print(matrix)"
   ]
  },
  {
   "cell_type": "code",
   "execution_count": 11,
   "metadata": {},
   "outputs": [
    {
     "name": "stdout",
     "output_type": "stream",
     "text": [
      "3\n",
      "[[[ 42  33  25]\n",
      "  [ 41  96   3]\n",
      "  [106  55  81]]]\n"
     ]
    }
   ],
   "source": [
    "tensor = np.asarray([[[42,33,25], [41,96,3], [106,55,81]]])\n",
    "print(tensor.ndim)\n",
    "print(tensor)"
   ]
  },
  {
   "cell_type": "markdown",
   "metadata": {},
   "source": [
    "## Agregar dimensiones"
   ]
  },
  {
   "cell_type": "code",
   "execution_count": 16,
   "metadata": {},
   "outputs": [
    {
     "name": "stdout",
     "output_type": "stream",
     "text": [
      "10\n",
      "[[[[[[[[[[42 33 25]]]]]]]]]]\n"
     ]
    }
   ],
   "source": [
    "vector = np.array([42,33,25], ndmin=10)\n",
    "print(vector.ndim)\n",
    "print(vector)"
   ]
  },
  {
   "cell_type": "code",
   "execution_count": 19,
   "metadata": {},
   "outputs": [
    {
     "name": "stdout",
     "output_type": "stream",
     "text": [
      "2\n",
      "[[1 2 3]]\n"
     ]
    }
   ],
   "source": [
    "expand = np.expand_dims(np.array([1,2,3]), axis=0)\n",
    "print(expand.ndim)\n",
    "print(expand)"
   ]
  },
  {
   "cell_type": "code",
   "execution_count": 22,
   "metadata": {},
   "outputs": [
    {
     "name": "stdout",
     "output_type": "stream",
     "text": [
      "[[[[[[[[[[42 33 25]]]]]]]]]]\n",
      "[42 33 25]\n",
      "1\n"
     ]
    }
   ],
   "source": [
    "print(vector)\n",
    "vector_2 = np.squeeze(vector)\n",
    "print(vector_2)\n",
    "print(vector_2.ndim)"
   ]
  }
 ],
 "metadata": {
  "interpreter": {
   "hash": "2ec14317ea0ff09be3fa4525b0755cb9a534d91c7a73f611d7805ebe1951320a"
  },
  "kernelspec": {
   "display_name": "Python 3.10.0 ('lynn')",
   "language": "python",
   "name": "python3"
  },
  "language_info": {
   "codemirror_mode": {
    "name": "ipython",
    "version": 3
   },
   "file_extension": ".py",
   "mimetype": "text/x-python",
   "name": "python",
   "nbconvert_exporter": "python",
   "pygments_lexer": "ipython3",
   "version": "3.10.0"
  },
  "orig_nbformat": 4
 },
 "nbformat": 4,
 "nbformat_minor": 2
}
