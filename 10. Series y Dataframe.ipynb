{
 "cells": [
  {
   "cell_type": "code",
   "execution_count": 1,
   "metadata": {},
   "outputs": [],
   "source": [
    "import pandas as pd"
   ]
  },
  {
   "cell_type": "code",
   "execution_count": 2,
   "metadata": {},
   "outputs": [
    {
     "data": {
      "text/plain": [
       "1      Navas\n",
       "7     Mbappé\n",
       "10    Neymar\n",
       "30     Messi\n",
       "dtype: object"
      ]
     },
     "execution_count": 2,
     "metadata": {},
     "output_type": "execute_result"
    }
   ],
   "source": [
    "psg_players = pd.Series(['Navas', 'Mbappé', 'Neymar', 'Messi'],\n",
    "                        index = [1, 7, 10, 30])\n",
    "psg_players"
   ]
  },
  {
   "cell_type": "code",
   "execution_count": 3,
   "metadata": {},
   "outputs": [
    {
     "data": {
      "text/plain": [
       "0     Navas\n",
       "1    Mbappé\n",
       "2    Neymar\n",
       "3     Messi\n",
       "dtype: object"
      ]
     },
     "execution_count": 3,
     "metadata": {},
     "output_type": "execute_result"
    }
   ],
   "source": [
    "psg_players = pd.Series(['Navas', 'Mbappé', 'Neymar', 'Messi'])\n",
    "psg_players"
   ]
  },
  {
   "cell_type": "code",
   "execution_count": 5,
   "metadata": {},
   "outputs": [
    {
     "data": {
      "text/plain": [
       "1      Navas\n",
       "7     Mbappé\n",
       "10    Neymar\n",
       "30     Messi\n",
       "dtype: object"
      ]
     },
     "execution_count": 5,
     "metadata": {},
     "output_type": "execute_result"
    }
   ],
   "source": [
    "psg_players = pd.Series(\n",
    "    {1: 'Navas', 7: 'Mbappé', 10: 'Neymar', 30: 'Messi'}\n",
    ")\n",
    "psg_players"
   ]
  },
  {
   "cell_type": "code",
   "execution_count": 7,
   "metadata": {},
   "outputs": [
    {
     "name": "stdout",
     "output_type": "stream",
     "text": [
      "Messi\n",
      "Mbappé\n"
     ]
    }
   ],
   "source": [
    "# La indexación de los pandas Series es basada en index, no por posición\n",
    "print(psg_players[30])\n",
    "print(psg_players[7])"
   ]
  },
  {
   "cell_type": "code",
   "execution_count": 9,
   "metadata": {},
   "outputs": [
    {
     "data": {
      "text/html": [
       "<div>\n",
       "<style scoped>\n",
       "    .dataframe tbody tr th:only-of-type {\n",
       "        vertical-align: middle;\n",
       "    }\n",
       "\n",
       "    .dataframe tbody tr th {\n",
       "        vertical-align: top;\n",
       "    }\n",
       "\n",
       "    .dataframe thead th {\n",
       "        text-align: right;\n",
       "    }\n",
       "</style>\n",
       "<table border=\"1\" class=\"dataframe\">\n",
       "  <thead>\n",
       "    <tr style=\"text-align: right;\">\n",
       "      <th></th>\n",
       "      <th>Jugador</th>\n",
       "      <th>Altura</th>\n",
       "      <th>Goles</th>\n",
       "    </tr>\n",
       "  </thead>\n",
       "  <tbody>\n",
       "    <tr>\n",
       "      <th>1</th>\n",
       "      <td>Navas</td>\n",
       "      <td>180</td>\n",
       "      <td>0</td>\n",
       "    </tr>\n",
       "    <tr>\n",
       "      <th>7</th>\n",
       "      <td>Mbappé</td>\n",
       "      <td>170</td>\n",
       "      <td>200</td>\n",
       "    </tr>\n",
       "    <tr>\n",
       "      <th>10</th>\n",
       "      <td>Neymar</td>\n",
       "      <td>170</td>\n",
       "      <td>100</td>\n",
       "    </tr>\n",
       "    <tr>\n",
       "      <th>30</th>\n",
       "      <td>Messi</td>\n",
       "      <td>165</td>\n",
       "      <td>300</td>\n",
       "    </tr>\n",
       "  </tbody>\n",
       "</table>\n",
       "</div>"
      ],
      "text/plain": [
       "   Jugador  Altura  Goles\n",
       "1    Navas     180      0\n",
       "7   Mbappé     170    200\n",
       "10  Neymar     170    100\n",
       "30   Messi     165    300"
      ]
     },
     "execution_count": 9,
     "metadata": {},
     "output_type": "execute_result"
    }
   ],
   "source": [
    "dic = {\n",
    "    'Jugador': ['Navas', 'Mbappé', 'Neymar', 'Messi'],\n",
    "    'Altura': [180, 170, 170, 165],\n",
    "    'Goles': [0, 200, 100, 300]\n",
    "}\n",
    "\n",
    "psg_df = pd.DataFrame(dic, index=[1,7,10,30])\n",
    "psg_df"
   ]
  },
  {
   "cell_type": "code",
   "execution_count": 10,
   "metadata": {},
   "outputs": [
    {
     "data": {
      "text/plain": [
       "Index(['Jugador', 'Altura', 'Goles'], dtype='object')"
      ]
     },
     "execution_count": 10,
     "metadata": {},
     "output_type": "execute_result"
    }
   ],
   "source": [
    "psg_df.columns"
   ]
  },
  {
   "cell_type": "code",
   "execution_count": 11,
   "metadata": {},
   "outputs": [
    {
     "data": {
      "text/plain": [
       "Int64Index([1, 7, 10, 30], dtype='int64')"
      ]
     },
     "execution_count": 11,
     "metadata": {},
     "output_type": "execute_result"
    }
   ],
   "source": [
    "psg_df.index"
   ]
  },
  {
   "cell_type": "code",
   "execution_count": 19,
   "metadata": {},
   "outputs": [
    {
     "data": {
      "text/html": [
       "<div>\n",
       "<style scoped>\n",
       "    .dataframe tbody tr th:only-of-type {\n",
       "        vertical-align: middle;\n",
       "    }\n",
       "\n",
       "    .dataframe tbody tr th {\n",
       "        vertical-align: top;\n",
       "    }\n",
       "\n",
       "    .dataframe thead th {\n",
       "        text-align: right;\n",
       "    }\n",
       "</style>\n",
       "<table border=\"1\" class=\"dataframe\">\n",
       "  <thead>\n",
       "    <tr style=\"text-align: right;\">\n",
       "      <th></th>\n",
       "      <th>Jugador</th>\n",
       "      <th>Posición</th>\n",
       "      <th>Dorsal</th>\n",
       "      <th>Goles</th>\n",
       "      <th>Altura (cm)</th>\n",
       "      <th>Tarjetas Amarillas</th>\n",
       "      <th>Tarjetas Rojas</th>\n",
       "    </tr>\n",
       "  </thead>\n",
       "  <tbody>\n",
       "    <tr>\n",
       "      <th>0</th>\n",
       "      <td>Luis Suárez</td>\n",
       "      <td>Delantero</td>\n",
       "      <td>9</td>\n",
       "      <td>7</td>\n",
       "      <td>185.0</td>\n",
       "      <td>3</td>\n",
       "      <td>1</td>\n",
       "    </tr>\n",
       "    <tr>\n",
       "      <th>1</th>\n",
       "      <td>Jorge Molina</td>\n",
       "      <td>Delantero</td>\n",
       "      <td>23</td>\n",
       "      <td>7</td>\n",
       "      <td>187.0</td>\n",
       "      <td>2</td>\n",
       "      <td>0</td>\n",
       "    </tr>\n",
       "    <tr>\n",
       "      <th>2</th>\n",
       "      <td>Antonio Puertas</td>\n",
       "      <td>Centrocampista</td>\n",
       "      <td>10</td>\n",
       "      <td>5</td>\n",
       "      <td>185.0</td>\n",
       "      <td>3</td>\n",
       "      <td>0</td>\n",
       "    </tr>\n",
       "    <tr>\n",
       "      <th>3</th>\n",
       "      <td>Germán Sánchez</td>\n",
       "      <td>Defensa</td>\n",
       "      <td>6</td>\n",
       "      <td>2</td>\n",
       "      <td>187.0</td>\n",
       "      <td>5</td>\n",
       "      <td>2</td>\n",
       "    </tr>\n",
       "    <tr>\n",
       "      <th>4</th>\n",
       "      <td>Luis Milla</td>\n",
       "      <td>Centrocampista</td>\n",
       "      <td>5</td>\n",
       "      <td>2</td>\n",
       "      <td>175.0</td>\n",
       "      <td>2</td>\n",
       "      <td>0</td>\n",
       "    </tr>\n",
       "    <tr>\n",
       "      <th>5</th>\n",
       "      <td>Luís Maximiano</td>\n",
       "      <td>Portero</td>\n",
       "      <td>1</td>\n",
       "      <td>0</td>\n",
       "      <td>190.0</td>\n",
       "      <td>0</td>\n",
       "      <td>0</td>\n",
       "    </tr>\n",
       "  </tbody>\n",
       "</table>\n",
       "</div>"
      ],
      "text/plain": [
       "           Jugador        Posición  Dorsal  Goles  Altura (cm)  \\\n",
       "0      Luis Suárez       Delantero       9      7        185.0   \n",
       "1     Jorge Molina       Delantero      23      7        187.0   \n",
       "2  Antonio Puertas  Centrocampista      10      5        185.0   \n",
       "3   Germán Sánchez         Defensa       6      2        187.0   \n",
       "4       Luis Milla  Centrocampista       5      2        175.0   \n",
       "5   Luís Maximiano         Portero       1      0        190.0   \n",
       "\n",
       "   Tarjetas Amarillas  Tarjetas Rojas  \n",
       "0                   3               1  \n",
       "1                   2               0  \n",
       "2                   3               0  \n",
       "3                   5               2  \n",
       "4                   2               0  \n",
       "5                   0               0  "
      ]
     },
     "execution_count": 19,
     "metadata": {},
     "output_type": "execute_result"
    }
   ],
   "source": [
    "# Dataframe\n",
    "granada =  {\n",
    "    'Jugador': ['Luis Suárez','Jorge Molina', 'Antonio Puertas', 'Germán Sánchez', 'Luis Milla', 'Luís Maximiano'],\n",
    "    'Posición': ['Delantero', 'Delantero', 'Centrocampista', 'Defensa', 'Centrocampista', 'Portero'],\n",
    "    'Dorsal': [9, 23, 10, 6, 5, 1],\n",
    "    'Goles': [7, 7, 5, 2, 2, 0],\n",
    "    'Altura (cm)': [185.0, 187.0, 185.0, 187.0, 175.0, 190.0],\n",
    "    'Tarjetas Amarillas': [3, 2, 3, 5, 2, 0],\n",
    "    'Tarjetas Rojas': [1, 0, 0, 2, 0, 0]\n",
    "}\n",
    "\n",
    "granada_df = pd.DataFrame(granada)\n",
    "granada_df"
   ]
  },
  {
   "cell_type": "code",
   "execution_count": 22,
   "metadata": {},
   "outputs": [
    {
     "data": {
      "text/html": [
       "<div>\n",
       "<style scoped>\n",
       "    .dataframe tbody tr th:only-of-type {\n",
       "        vertical-align: middle;\n",
       "    }\n",
       "\n",
       "    .dataframe tbody tr th {\n",
       "        vertical-align: top;\n",
       "    }\n",
       "\n",
       "    .dataframe thead th {\n",
       "        text-align: right;\n",
       "    }\n",
       "</style>\n",
       "<table border=\"1\" class=\"dataframe\">\n",
       "  <thead>\n",
       "    <tr style=\"text-align: right;\">\n",
       "      <th></th>\n",
       "      <th>Jugador</th>\n",
       "      <th>Posición</th>\n",
       "      <th>Dorsal</th>\n",
       "      <th>Goles</th>\n",
       "      <th>Altura (cm)</th>\n",
       "      <th>Tarjetas Amarillas</th>\n",
       "      <th>Tarjetas Rojas</th>\n",
       "    </tr>\n",
       "  </thead>\n",
       "  <tbody>\n",
       "    <tr>\n",
       "      <th>0</th>\n",
       "      <td>Luis Suárez</td>\n",
       "      <td>Delantero</td>\n",
       "      <td>9</td>\n",
       "      <td>7</td>\n",
       "      <td>185.0</td>\n",
       "      <td>3</td>\n",
       "      <td>1</td>\n",
       "    </tr>\n",
       "    <tr>\n",
       "      <th>2</th>\n",
       "      <td>Antonio Puertas</td>\n",
       "      <td>Centrocampista</td>\n",
       "      <td>10</td>\n",
       "      <td>5</td>\n",
       "      <td>185.0</td>\n",
       "      <td>3</td>\n",
       "      <td>0</td>\n",
       "    </tr>\n",
       "    <tr>\n",
       "      <th>4</th>\n",
       "      <td>Luis Milla</td>\n",
       "      <td>Centrocampista</td>\n",
       "      <td>5</td>\n",
       "      <td>2</td>\n",
       "      <td>175.0</td>\n",
       "      <td>2</td>\n",
       "      <td>0</td>\n",
       "    </tr>\n",
       "  </tbody>\n",
       "</table>\n",
       "</div>"
      ],
      "text/plain": [
       "           Jugador        Posición  Dorsal  Goles  Altura (cm)  \\\n",
       "0      Luis Suárez       Delantero       9      7        185.0   \n",
       "2  Antonio Puertas  Centrocampista      10      5        185.0   \n",
       "4       Luis Milla  Centrocampista       5      2        175.0   \n",
       "\n",
       "   Tarjetas Amarillas  Tarjetas Rojas  \n",
       "0                   3               1  \n",
       "2                   3               0  \n",
       "4                   2               0  "
      ]
     },
     "execution_count": 22,
     "metadata": {},
     "output_type": "execute_result"
    }
   ],
   "source": [
    "granada_df[0::2]"
   ]
  },
  {
   "cell_type": "code",
   "execution_count": 23,
   "metadata": {},
   "outputs": [
    {
     "data": {
      "text/html": [
       "<div>\n",
       "<style scoped>\n",
       "    .dataframe tbody tr th:only-of-type {\n",
       "        vertical-align: middle;\n",
       "    }\n",
       "\n",
       "    .dataframe tbody tr th {\n",
       "        vertical-align: top;\n",
       "    }\n",
       "\n",
       "    .dataframe thead th {\n",
       "        text-align: right;\n",
       "    }\n",
       "</style>\n",
       "<table border=\"1\" class=\"dataframe\">\n",
       "  <thead>\n",
       "    <tr style=\"text-align: right;\">\n",
       "      <th></th>\n",
       "      <th>Jugador</th>\n",
       "      <th>Posición</th>\n",
       "      <th>Dorsal</th>\n",
       "      <th>Goles</th>\n",
       "      <th>Altura (cm)</th>\n",
       "      <th>Tarjetas Amarillas</th>\n",
       "      <th>Tarjetas Rojas</th>\n",
       "    </tr>\n",
       "  </thead>\n",
       "  <tbody>\n",
       "    <tr>\n",
       "      <th>5</th>\n",
       "      <td>Luís Maximiano</td>\n",
       "      <td>Portero</td>\n",
       "      <td>1</td>\n",
       "      <td>0</td>\n",
       "      <td>190.0</td>\n",
       "      <td>0</td>\n",
       "      <td>0</td>\n",
       "    </tr>\n",
       "  </tbody>\n",
       "</table>\n",
       "</div>"
      ],
      "text/plain": [
       "          Jugador Posición  Dorsal  Goles  Altura (cm)  Tarjetas Amarillas  \\\n",
       "5  Luís Maximiano  Portero       1      0        190.0                   0   \n",
       "\n",
       "   Tarjetas Rojas  \n",
       "5               0  "
      ]
     },
     "execution_count": 23,
     "metadata": {},
     "output_type": "execute_result"
    }
   ],
   "source": [
    "granada_df[-1::]"
   ]
  },
  {
   "cell_type": "code",
   "execution_count": 28,
   "metadata": {},
   "outputs": [
    {
     "data": {
      "text/html": [
       "<div>\n",
       "<style scoped>\n",
       "    .dataframe tbody tr th:only-of-type {\n",
       "        vertical-align: middle;\n",
       "    }\n",
       "\n",
       "    .dataframe tbody tr th {\n",
       "        vertical-align: top;\n",
       "    }\n",
       "\n",
       "    .dataframe thead th {\n",
       "        text-align: right;\n",
       "    }\n",
       "</style>\n",
       "<table border=\"1\" class=\"dataframe\">\n",
       "  <thead>\n",
       "    <tr style=\"text-align: right;\">\n",
       "      <th></th>\n",
       "      <th>Jugador</th>\n",
       "      <th>Posición</th>\n",
       "      <th>Dorsal</th>\n",
       "      <th>Goles</th>\n",
       "      <th>Altura (cm)</th>\n",
       "      <th>Tarjetas Amarillas</th>\n",
       "      <th>Tarjetas Rojas</th>\n",
       "    </tr>\n",
       "  </thead>\n",
       "  <tbody>\n",
       "    <tr>\n",
       "      <th>5</th>\n",
       "      <td>Luís Maximiano</td>\n",
       "      <td>Portero</td>\n",
       "      <td>1</td>\n",
       "      <td>0</td>\n",
       "      <td>190.0</td>\n",
       "      <td>0</td>\n",
       "      <td>0</td>\n",
       "    </tr>\n",
       "    <tr>\n",
       "      <th>4</th>\n",
       "      <td>Luis Milla</td>\n",
       "      <td>Centrocampista</td>\n",
       "      <td>5</td>\n",
       "      <td>2</td>\n",
       "      <td>175.0</td>\n",
       "      <td>2</td>\n",
       "      <td>0</td>\n",
       "    </tr>\n",
       "    <tr>\n",
       "      <th>3</th>\n",
       "      <td>Germán Sánchez</td>\n",
       "      <td>Defensa</td>\n",
       "      <td>6</td>\n",
       "      <td>2</td>\n",
       "      <td>187.0</td>\n",
       "      <td>5</td>\n",
       "      <td>2</td>\n",
       "    </tr>\n",
       "    <tr>\n",
       "      <th>2</th>\n",
       "      <td>Antonio Puertas</td>\n",
       "      <td>Centrocampista</td>\n",
       "      <td>10</td>\n",
       "      <td>5</td>\n",
       "      <td>185.0</td>\n",
       "      <td>3</td>\n",
       "      <td>0</td>\n",
       "    </tr>\n",
       "    <tr>\n",
       "      <th>1</th>\n",
       "      <td>Jorge Molina</td>\n",
       "      <td>Delantero</td>\n",
       "      <td>23</td>\n",
       "      <td>7</td>\n",
       "      <td>187.0</td>\n",
       "      <td>2</td>\n",
       "      <td>0</td>\n",
       "    </tr>\n",
       "    <tr>\n",
       "      <th>0</th>\n",
       "      <td>Luis Suárez</td>\n",
       "      <td>Delantero</td>\n",
       "      <td>9</td>\n",
       "      <td>7</td>\n",
       "      <td>185.0</td>\n",
       "      <td>3</td>\n",
       "      <td>1</td>\n",
       "    </tr>\n",
       "  </tbody>\n",
       "</table>\n",
       "</div>"
      ],
      "text/plain": [
       "           Jugador        Posición  Dorsal  Goles  Altura (cm)  \\\n",
       "5   Luís Maximiano         Portero       1      0        190.0   \n",
       "4       Luis Milla  Centrocampista       5      2        175.0   \n",
       "3   Germán Sánchez         Defensa       6      2        187.0   \n",
       "2  Antonio Puertas  Centrocampista      10      5        185.0   \n",
       "1     Jorge Molina       Delantero      23      7        187.0   \n",
       "0      Luis Suárez       Delantero       9      7        185.0   \n",
       "\n",
       "   Tarjetas Amarillas  Tarjetas Rojas  \n",
       "5                   0               0  \n",
       "4                   2               0  \n",
       "3                   5               2  \n",
       "2                   3               0  \n",
       "1                   2               0  \n",
       "0                   3               1  "
      ]
     },
     "execution_count": 28,
     "metadata": {},
     "output_type": "execute_result"
    }
   ],
   "source": [
    "granada_df[::-1]"
   ]
  }
 ],
 "metadata": {
  "interpreter": {
   "hash": "2ec14317ea0ff09be3fa4525b0755cb9a534d91c7a73f611d7805ebe1951320a"
  },
  "kernelspec": {
   "display_name": "Python 3.10.0 ('lynn')",
   "language": "python",
   "name": "python3"
  },
  "language_info": {
   "codemirror_mode": {
    "name": "ipython",
    "version": 3
   },
   "file_extension": ".py",
   "mimetype": "text/x-python",
   "name": "python",
   "nbconvert_exporter": "python",
   "pygments_lexer": "ipython3",
   "version": "3.10.0"
  },
  "orig_nbformat": 4
 },
 "nbformat": 4,
 "nbformat_minor": 2
}
